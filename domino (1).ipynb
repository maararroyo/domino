{
 "cells": [
  {
   "cell_type": "code",
   "execution_count": null,
   "id": "026ef21f",
   "metadata": {},
   "outputs": [],
   "source": [
    "tablero = [[3,6],[6,6],[6,4]]\n",
    "fichas = [[3,4],[3,5],[4,5],[0,0],[0,0],[0,0],[0,0]]"
   ]
  },
  {
   "cell_type": "code",
   "execution_count": 2,
   "id": "ba7e9ba9",
   "metadata": {},
   "outputs": [],
   "source": [
    "def movimientos_posibles(fichas:list, tablero:list):\n",
    "    movimientos = []\n",
    "    for lado in [0,1]:\n",
    "        for ficha in fichas:\n",
    "            if ficha[lado] == tablero[0][0] and (ficha, 0) not in movimientos:\n",
    "                movimientos.append((ficha, 0))\n",
    "            if ficha[lado] == tablero[-1][-1] and (ficha, 1) not in movimientos:\n",
    "                movimientos.append((ficha, 1))\n",
    "    return movimientos"
   ]
  },
  {
   "cell_type": "code",
   "execution_count": 3,
   "id": "bea4050d",
   "metadata": {},
   "outputs": [],
   "source": [
    "def nuevo_estado(estado, movimiento):\n",
    "    ficha, lado = movimiento\n",
    "    nuevo_tablero = estado[0][:]\n",
    "    if lado == 0:\n",
    "        nuevo_tablero.insert(0, ficha)\n",
    "    else:\n",
    "        nuevo_tablero.append(ficha)\n",
    "    nuevas_fichas = estado[1][:]\n",
    "    nuevas_fichas.remove(ficha)\n",
    "    return (nuevo_tablero, nuevas_fichas)"
   ]
  },
  {
   "cell_type": "code",
   "execution_count": 4,
   "id": "3683429e",
   "metadata": {},
   "outputs": [],
   "source": [
    "def evaluar_estado(estado):\n",
    "    tablero = estado[0]\n",
    "    puntaje = 0\n",
    "    for ficha in estado[1]:\n",
    "        puntaje += ficha[0] + ficha[1]\n",
    "    return puntaje"
   ]
  },
  {
   "cell_type": "code",
   "execution_count": 5,
   "id": "8d3e1d34",
   "metadata": {},
   "outputs": [],
   "source": [
    "import math\n",
    "\n",
    "def minimax_poda(estado, profundidad, alpha, beta, maximizando):\n",
    "    if profundidad == 0 or len(estado[1]) == 0:\n",
    "        return evaluar_estado(estado), None\n",
    "    \n",
    "    if maximizando:\n",
    "        mejor_valor = -math.inf\n",
    "        mejor_movimiento = None\n",
    "        for movimiento in movimientos_posibles(estado[1], estado[0]):\n",
    "            nuevo_estado_jugador = nuevo_estado(estado, movimiento)\n",
    "            valor, _ = minimax_poda(nuevo_estado_jugador, profundidad-1, alpha, beta, False)\n",
    "            if valor > mejor_valor:\n",
    "                mejor_valor = valor\n",
    "                mejor_movimiento = movimiento\n",
    "            alpha = max(alpha, mejor_valor)\n",
    "            if beta <= alpha:\n",
    "                break\n",
    "        return mejor_valor, mejor_movimiento\n",
    "    \n",
    "    else:\n",
    "        mejor_valor = math.inf\n",
    "        mejor_movimiento = None\n",
    "        for movimiento in movimientos_posibles(estado[1], estado[0]):\n",
    "            nuevo_estado_oponente = nuevo_estado(estado, movimiento)\n",
    "            valor, _ = minimax_poda(nuevo_estado_oponente, profundidad-1, alpha, beta, True)\n",
    "            if valor < mejor_valor:\n",
    "                mejor_valor = valor\n",
    "                mejor_movimiento = movimiento\n",
    "            beta = min(beta, mejor_valor)\n",
    "            if beta <= alpha:\n",
    "                break\n",
    "        return mejor_valor, mejor_movimiento"
   ]
  },
  {
   "cell_type": "code",
   "execution_count": 6,
   "id": "2be9878a",
   "metadata": {
    "scrolled": true
   },
   "outputs": [
    {
     "name": "stdout",
     "output_type": "stream",
     "text": [
      "El mejor movimiento es: ([4, 6], 1)\n"
     ]
    }
   ],
   "source": [
    "tablero = [[6,6]]\n",
    "fichas = [[4,6],[4,4],[4,1],[1,0],[0,4]]\n",
    "\n",
    "estado_actual = (tablero, fichas)\n",
    "\n",
    "profundidad = 1000\n",
    "\n",
    "mejor_valor, mejor_movimiento = minimax_poda(estado_actual, profundidad, -math.inf, math.inf, True)\n",
    "\n",
    "\n",
    "if mejor_movimiento == None:\n",
    "    print(\"El mejor movimiento es:\", movimientos_posibles(estado_actual[1],estado_actual[0]))\n",
    "else:\n",
    "    print(\"El mejor movimiento es:\", mejor_movimiento)"
   ]
  },
  {
   "cell_type": "code",
   "execution_count": 7,
   "id": "8557df6d",
   "metadata": {},
   "outputs": [
    {
     "data": {
      "text/plain": [
       "([4, 6], 1)"
      ]
     },
     "execution_count": 7,
     "metadata": {},
     "output_type": "execute_result"
    }
   ],
   "source": [
    "max(movimientos_posibles(estado_actual[1],estado_actual[0]))"
   ]
  },
  {
   "cell_type": "code",
   "execution_count": 8,
   "id": "5c0713f5",
   "metadata": {},
   "outputs": [
    {
     "data": {
      "text/plain": [
       "[([4, 6], 0), ([4, 6], 1)]"
      ]
     },
     "execution_count": 8,
     "metadata": {},
     "output_type": "execute_result"
    }
   ],
   "source": [
    "movimientos_posibles(estado_actual[1],estado_actual[0])"
   ]
  },
  {
   "cell_type": "code",
   "execution_count": 9,
   "id": "3b12f749",
   "metadata": {},
   "outputs": [],
   "source": [
    "def generar_partida_domino():\n",
    "    fichas = []\n",
    "    for i in range(7):\n",
    "        for j in range(i, 7):\n",
    "            fichas.append([i, j])\n",
    "    import random\n",
    "    random.shuffle(fichas)\n",
    "    arreglo1 = fichas[:7]\n",
    "    arreglo2 = fichas[7:14]\n",
    "    mula1 = max([ficha for ficha in arreglo1 if ficha[0] == ficha[1]])\n",
    "    mula2 = max([ficha for ficha in arreglo2 if ficha[0] == ficha[1]])\n",
    "    mula_mayor = max(mula1, mula2)\n",
    "    return mula_mayor, arreglo1"
   ]
  },
  {
   "cell_type": "code",
   "execution_count": 10,
   "id": "b946b33e",
   "metadata": {
    "scrolled": false
   },
   "outputs": [
    {
     "data": {
      "text/plain": [
       "([5, 5], [[0, 0], [1, 2], [5, 6], [1, 1], [4, 6], [4, 4], [0, 1]])"
      ]
     },
     "execution_count": 10,
     "metadata": {},
     "output_type": "execute_result"
    }
   ],
   "source": [
    "generar_partida_domino()"
   ]
  },
  {
   "cell_type": "code",
   "execution_count": 11,
   "id": "b008e023",
   "metadata": {},
   "outputs": [
    {
     "data": {
      "text/plain": [
       "list"
      ]
     },
     "execution_count": 11,
     "metadata": {},
     "output_type": "execute_result"
    }
   ],
   "source": [
    "type([1,2,3])"
   ]
  },
  {
   "cell_type": "code",
   "execution_count": null,
   "id": "22825909",
   "metadata": {},
   "outputs": [],
   "source": []
  }
 ],
 "metadata": {
  "kernelspec": {
   "display_name": "Python 3 (ipykernel)",
   "language": "python",
   "name": "python3"
  },
  "language_info": {
   "codemirror_mode": {
    "name": "ipython",
    "version": 3
   },
   "file_extension": ".py",
   "mimetype": "text/x-python",
   "name": "python",
   "nbconvert_exporter": "python",
   "pygments_lexer": "ipython3",
   "version": "3.9.13"
  }
 },
 "nbformat": 4,
 "nbformat_minor": 5
}
